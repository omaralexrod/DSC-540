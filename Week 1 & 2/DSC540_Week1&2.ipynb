{
 "cells": [
  {
   "cell_type": "code",
   "execution_count": 1,
   "id": "5fbabb6f",
   "metadata": {},
   "outputs": [
    {
     "name": "stdout",
     "output_type": "stream",
     "text": [
      "Unsorted numbers:\n",
      "6\n",
      "92\n",
      "20\n",
      "76\n",
      "77\n",
      "18\n",
      "7\n",
      "6\n",
      "22\n",
      "77\n",
      "Sorted numbers:\n",
      "6\n",
      "6\n",
      "7\n",
      "18\n",
      "20\n",
      "22\n",
      "76\n",
      "77\n",
      "77\n",
      "92\n"
     ]
    }
   ],
   "source": [
    "# Q1. Create a list, iterate over the list and sort your results, generate random numbers, \n",
    "# add to the list, and then print your results.\n",
    "\n",
    "import random\n",
    "\n",
    "# Step 1: Create an empty list\n",
    "numbers = []\n",
    "\n",
    "# Step 2: Generate 10 random numbers between 1 and 100 and add them to the list\n",
    "for _ in range(10):\n",
    "    num = random.randint(1, 100)\n",
    "    numbers.append(num)\n",
    "\n",
    "# Step 3: Iterate over the list and print the unsorted numbers\n",
    "print(\"Unsorted numbers:\")\n",
    "for num in numbers:\n",
    "    print(num)\n",
    "\n",
    "# Step 4: Sort the list\n",
    "numbers.sort()\n",
    "\n",
    "# Step 5: Print the sorted results\n",
    "print(\"Sorted numbers:\")\n",
    "for num in numbers:\n",
    "    print(num)"
   ]
  },
  {
   "cell_type": "code",
   "execution_count": 2,
   "id": "b9c2b26a",
   "metadata": {},
   "outputs": [
    {
     "data": {
      "image/png": "[encoded data removed]",
      "text/plain": [
       "<Figure size 720x432 with 1 Axes>"
      ]
     },
     "metadata": {
      "needs_background": "light"
     },
     "output_type": "display_data"
    }
   ],
   "source": [
    "# Q2. Create a line chart with Matplotlib.\n",
    "\n",
    "import pandas as pd\n",
    "import matplotlib.pyplot as plt\n",
    "\n",
    "# Load the Excel file\n",
    "file_path = (r\"C:\\Users\\Omie\\Desktop\\MSDS\\540_Data Preparation\\Week 1-2\\world-population.xlsm\")\n",
    "excel_file = pd.ExcelFile(file_path)\n",
    "\n",
    "# Load the data\n",
    "df = excel_file.parse('world-population')\n",
    "\n",
    "# Create a line chart\n",
    "plt.figure(figsize=(10, 6))\n",
    "plt.plot(df['Year'], df['Population'], marker='o', linestyle='-')\n",
    "plt.title('World Population Over Time')\n",
    "plt.xlabel('Year')\n",
    "plt.ylabel('Population')\n",
    "plt.grid(True)\n",
    "plt.tight_layout()\n",
    "\n",
    "# Show the plot\n",
    "plt.show()"
   ]
  },
  {
   "cell_type": "code",
   "execution_count": 3,
   "id": "a46706f0",
   "metadata": {
    "scrolled": false
   },
   "outputs": [
    {
     "data": {
      "text/plain": [
       "[33,\n",
       " 87,\n",
       " 16,\n",
       " 64,\n",
       " 75,\n",
       " 27,\n",
       " 75,\n",
       " 48,\n",
       " 51,\n",
       " 27,\n",
       " 21,\n",
       " 4,\n",
       " 45,\n",
       " 1,\n",
       " 89,\n",
       " 44,\n",
       " 6,\n",
       " 15,\n",
       " 28,\n",
       " 90,\n",
       " 21,\n",
       " 23,\n",
       " 40,\n",
       " 59,\n",
       " 38,\n",
       " 1,\n",
       " 55,\n",
       " 61,\n",
       " 13,\n",
       " 89,\n",
       " 45,\n",
       " 76,\n",
       " 85,\n",
       " 59,\n",
       " 46,\n",
       " 0,\n",
       " 50,\n",
       " 80,\n",
       " 50,\n",
       " 71,\n",
       " 68,\n",
       " 5,\n",
       " 68,\n",
       " 72,\n",
       " 73,\n",
       " 14,\n",
       " 15,\n",
       " 20,\n",
       " 8,\n",
       " 17,\n",
       " 60,\n",
       " 92,\n",
       " 7,\n",
       " 75,\n",
       " 2,\n",
       " 58,\n",
       " 10,\n",
       " 26,\n",
       " 0,\n",
       " 71,\n",
       " 55,\n",
       " 5,\n",
       " 23,\n",
       " 69,\n",
       " 98,\n",
       " 56,\n",
       " 60,\n",
       " 86,\n",
       " 74,\n",
       " 5,\n",
       " 34,\n",
       " 99,\n",
       " 44,\n",
       " 77,\n",
       " 68,\n",
       " 76,\n",
       " 66,\n",
       " 77,\n",
       " 48,\n",
       " 58,\n",
       " 25,\n",
       " 79,\n",
       " 25,\n",
       " 21,\n",
       " 50,\n",
       " 94,\n",
       " 60,\n",
       " 96,\n",
       " 67,\n",
       " 43,\n",
       " 63,\n",
       " 77,\n",
       " 17,\n",
       " 4,\n",
       " 36,\n",
       " 43,\n",
       " 75,\n",
       " 82,\n",
       " 5,\n",
       " 2]"
      ]
     },
     "execution_count": 3,
     "metadata": {},
     "output_type": "execute_result"
    }
   ],
   "source": [
    "# Activity 1.01: Handling Lists\n",
    "\n",
    "# Generate a list of 100 random integers between 0 and 100\n",
    "random_number_list = [random.randint(0, 100) for x in range(0, 100)]\n",
    "\n",
    "# Display the list of random numbers\n",
    "random_number_list"
   ]
  },
  {
   "cell_type": "code",
   "execution_count": 4,
   "id": "9fec1dcc",
   "metadata": {
    "scrolled": false
   },
   "outputs": [
    {
     "data": {
      "text/plain": [
       "[33,\n",
       " 87,\n",
       " 75,\n",
       " 27,\n",
       " 75,\n",
       " 48,\n",
       " 51,\n",
       " 27,\n",
       " 21,\n",
       " 45,\n",
       " 6,\n",
       " 15,\n",
       " 90,\n",
       " 21,\n",
       " 45,\n",
       " 0,\n",
       " 72,\n",
       " 15,\n",
       " 60,\n",
       " 75,\n",
       " 0,\n",
       " 69,\n",
       " 60,\n",
       " 99,\n",
       " 66,\n",
       " 48,\n",
       " 21,\n",
       " 60,\n",
       " 96,\n",
       " 63,\n",
       " 36,\n",
       " 75]"
      ]
     },
     "execution_count": 4,
     "metadata": {},
     "output_type": "execute_result"
    }
   ],
   "source": [
    "# Create a new list with numbers divisible by 3 from the original list\n",
    "list_with_divisible_by_3 = [a for a in random_number_list if a % 3 == 0]\n",
    "\n",
    "# Display the filtered list\n",
    "list_with_divisible_by_3"
   ]
  },
  {
   "cell_type": "code",
   "execution_count": 5,
   "id": "8dc8f047",
   "metadata": {},
   "outputs": [
    {
     "data": {
      "text/plain": [
       "68"
      ]
     },
     "execution_count": 5,
     "metadata": {},
     "output_type": "execute_result"
    }
   ],
   "source": [
    "# Get the length of the original list\n",
    "length_of_random_list = len(random_number_list)\n",
    "\n",
    "# Get the length of the list with numbers divisible by 3\n",
    "length_of_3_divisible_list = len(list_with_divisible_by_3)\n",
    "\n",
    "# Calculate how many numbers are not divisible by 3\n",
    "difference = length_of_random_list - length_of_3_divisible_list\n",
    "\n",
    "# Display the difference\n",
    "difference"
   ]
  },
  {
   "cell_type": "code",
   "execution_count": 6,
   "id": "6b68c684",
   "metadata": {},
   "outputs": [
    {
     "data": {
      "text/plain": [
       "[56, 75, 68, 60, 68, 66, 70, 62, 65, 63]"
      ]
     },
     "execution_count": 6,
     "metadata": {},
     "output_type": "execute_result"
    }
   ],
   "source": [
    "# Set the number of times we want to repeat the experiment\n",
    "NUMBER_OF_EXPERIMENTS = 10\n",
    "\n",
    "# Create an empty list to store the difference results from each experiment\n",
    "difference_list = []\n",
    "\n",
    "# Run the experiment 10 times\n",
    "for i in range(0, NUMBER_OF_EXPERIMENTS):\n",
    "    # Generate a new list of 100 random numbers for each experiment\n",
    "    random_number_list = [random.randint(0, 100) for x in range(0, 100)]\n",
    "    # Filter out numbers divisible by 3\n",
    "    list_with_divisible_by_3 = [a for a in random_number_list if a % 3 == 0]\n",
    "    \n",
    "     # Calculate the lengths and their difference\n",
    "    length_of_random_list = len(random_number_list)\n",
    "    length_of_3_divisible_list = len(list_with_divisible_by_3)\n",
    "    difference = length_of_random_list - length_of_3_divisible_list\n",
    "    \n",
    "     # Append the result to the list of differences\n",
    "    difference_list.append(difference)\n",
    "    \n",
    "# Show the list of differences from all experiments  \n",
    "difference_list"
   ]
  },
  {
   "cell_type": "code",
   "execution_count": 7,
   "id": "7ca169d3",
   "metadata": {},
   "outputs": [
    {
     "data": {
      "text/plain": [
       "65.3"
      ]
     },
     "execution_count": 7,
     "metadata": {},
     "output_type": "execute_result"
    }
   ],
   "source": [
    "# Calculate the average difference over all experiments\n",
    "avg_diff = sum(difference_list) / float(len(difference_list))\n",
    "\n",
    "# Display the average difference\n",
    "avg_diff"
   ]
  },
  {
   "cell_type": "code",
   "execution_count": 8,
   "id": "7bf9a3f4",
   "metadata": {},
   "outputs": [],
   "source": [
    "# Activity 1.02: Analyzing a Multiline String and Generating the Unique Word Count\n",
    "\n",
    "# Define a multiline string\n",
    "multiline_text= \"\"\"It is a truth universally acknowledged, that a single man in possession of a good fortune, must be in want of a wife.\n",
    "\n",
    "However little known the feelings or views of such a man may be on his first entering a neighbourhood, this truth is so well fixed in the minds of the surrounding families, that he is considered the rightful property of some one or other of their daughters.\n",
    "\n",
    "\"My dear Mr. Bennet,\" said his lady to him one day, \"have you heard that Netherfield Park is let at last?\"\n",
    "\n",
    "Mr. Bennet replied that he had not.\n",
    "\n",
    "\"But it is,\" returned she; \"for Mrs. Long has just been here, and she told me all about it.\"\n",
    "\n",
    "Mr. Bennet made no answer.\n",
    "\n",
    "\"Do you not want to know who has taken it?\" cried his wife impatiently.\n",
    "\n",
    "\"You want to tell me, and I have no objection to hearing it.\"\n",
    "\n",
    "This was invitation enough.\n",
    "\n",
    "\"Why, my dear, you must know, Mrs. Long says that Netherfield is taken by a young man of large fortune from the north of England; that he came down on Monday in a chaise and four to see the place, and was so much delighted with it, that he agreed with Mr. Morris immediately; that he is to take possession before Michaelmas, and some of his servants are to be in the house by the end of next week.\"\n",
    "\n",
    "\"What is his name?\"\"\""
   ]
  },
  {
   "cell_type": "code",
   "execution_count": 9,
   "id": "e16083b4",
   "metadata": {},
   "outputs": [
    {
     "data": {
      "text/plain": [
       "str"
      ]
     },
     "execution_count": 9,
     "metadata": {},
     "output_type": "execute_result"
    }
   ],
   "source": [
    "# Check the type of the text\n",
    "type(multiline_text)"
   ]
  },
  {
   "cell_type": "code",
   "execution_count": 10,
   "id": "4f9d73a8",
   "metadata": {},
   "outputs": [
    {
     "data": {
      "text/plain": [
       "1228"
      ]
     },
     "execution_count": 10,
     "metadata": {},
     "output_type": "execute_result"
    }
   ],
   "source": [
    "# Check how many characters are in the text\n",
    "len(multiline_text)"
   ]
  },
  {
   "cell_type": "code",
   "execution_count": 11,
   "id": "29204cea",
   "metadata": {},
   "outputs": [
    {
     "data": {
      "text/plain": [
       "'It is a truth universally acknowledged, that a single man in possession of a good fortune, must be in want of a wife.However little known the feelings or views of such a man may be on his first entering a neighbourhood, this truth is so well fixed in the minds of the surrounding families, that he is considered the rightful property of some one or other of their daughters.\"My dear Mr. Bennet,\" said his lady to him one day, \"have you heard that Netherfield Park is let at last?\"Mr. Bennet replied that he had not.\"But it is,\" returned she; \"for Mrs. Long has just been here, and she told me all about it.\"Mr. Bennet made no answer.\"Do you not want to know who has taken it?\" cried his wife impatiently.\"You want to tell me, and I have no objection to hearing it.\"This was invitation enough.\"Why, my dear, you must know, Mrs. Long says that Netherfield is taken by a young man of large fortune from the north of England; that he came down on Monday in a chaise and four to see the place, and was so much delighted with it, that he agreed with Mr. Morris immediately; that he is to take possession before Michaelmas, and some of his servants are to be in the house by the end of next week.\"\"What is his name?'"
      ]
     },
     "execution_count": 11,
     "metadata": {},
     "output_type": "execute_result"
    }
   ],
   "source": [
    "# Remove newline characters from the text\n",
    "multiline_text = multiline_text.replace('\\n', \"\")\n",
    "\n",
    "# Display the cleaned text\n",
    "multiline_text"
   ]
  },
  {
   "cell_type": "code",
   "execution_count": 13,
   "id": "b1d9edc5",
   "metadata": {},
   "outputs": [],
   "source": [
    "# Initialize an empty string to store cleaned characters\n",
    "cleaned_multiline_text = \"\"\n",
    "\n",
    "# Iterate through each character in the text\n",
    "for char in multiline_text:\n",
    "    if char == \" \":\n",
    "        # Keep spaces\n",
    "        cleaned_multiline_text += char\n",
    "    elif char.isalnum():\n",
    "        # Keep letters and numbers\n",
    "        cleaned_multiline_text += char\n",
    "    else:\n",
    "        # Replace punctuation with a space\n",
    "        cleaned_multiline_text += \" \""
   ]
  },
  {
   "cell_type": "code",
   "execution_count": 14,
   "id": "3587a0c1",
   "metadata": {},
   "outputs": [
    {
     "data": {
      "text/plain": [
       "'It is a truth universally acknowledged  that a single man in possession of a good fortune  must be in want of a wife However little known the feelings or views of such a man may be on his first entering a neighbourhood  this truth is so well fixed in the minds of the surrounding families  that he is considered the rightful property of some one or other of their daughters  My dear Mr  Bennet   said his lady to him one day   have you heard that Netherfield Park is let at last  Mr  Bennet replied that he had not  But it is   returned she   for Mrs  Long has just been here  and she told me all about it  Mr  Bennet made no answer  Do you not want to know who has taken it   cried his wife impatiently  You want to tell me  and I have no objection to hearing it  This was invitation enough  Why  my dear  you must know  Mrs  Long says that Netherfield is taken by a young man of large fortune from the north of England  that he came down on Monday in a chaise and four to see the place  and was so much delighted with it  that he agreed with Mr  Morris immediately  that he is to take possession before Michaelmas  and some of his servants are to be in the house by the end of next week   What is his name '"
      ]
     },
     "execution_count": 14,
     "metadata": {},
     "output_type": "execute_result"
    }
   ],
   "source": [
    "# Display the cleaned version of the text with no punctuation\n",
    "cleaned_multiline_text"
   ]
  },
  {
   "cell_type": "code",
   "execution_count": 15,
   "id": "c70831c7",
   "metadata": {
    "scrolled": false
   },
   "outputs": [
    {
     "data": {
      "text/plain": [
       "['It',\n",
       " 'is',\n",
       " 'a',\n",
       " 'truth',\n",
       " 'universally',\n",
       " 'acknowledged',\n",
       " 'that',\n",
       " 'a',\n",
       " 'single',\n",
       " 'man',\n",
       " 'in',\n",
       " 'possession',\n",
       " 'of',\n",
       " 'a',\n",
       " 'good',\n",
       " 'fortune',\n",
       " 'must',\n",
       " 'be',\n",
       " 'in',\n",
       " 'want',\n",
       " 'of',\n",
       " 'a',\n",
       " 'wife',\n",
       " 'However',\n",
       " 'little',\n",
       " 'known',\n",
       " 'the',\n",
       " 'feelings',\n",
       " 'or',\n",
       " 'views',\n",
       " 'of',\n",
       " 'such',\n",
       " 'a',\n",
       " 'man',\n",
       " 'may',\n",
       " 'be',\n",
       " 'on',\n",
       " 'his',\n",
       " 'first',\n",
       " 'entering',\n",
       " 'a',\n",
       " 'neighbourhood',\n",
       " 'this',\n",
       " 'truth',\n",
       " 'is',\n",
       " 'so',\n",
       " 'well',\n",
       " 'fixed',\n",
       " 'in',\n",
       " 'the',\n",
       " 'minds',\n",
       " 'of',\n",
       " 'the',\n",
       " 'surrounding',\n",
       " 'families',\n",
       " 'that',\n",
       " 'he',\n",
       " 'is',\n",
       " 'considered',\n",
       " 'the',\n",
       " 'rightful',\n",
       " 'property',\n",
       " 'of',\n",
       " 'some',\n",
       " 'one',\n",
       " 'or',\n",
       " 'other',\n",
       " 'of',\n",
       " 'their',\n",
       " 'daughters',\n",
       " 'My',\n",
       " 'dear',\n",
       " 'Mr',\n",
       " 'Bennet',\n",
       " 'said',\n",
       " 'his',\n",
       " 'lady',\n",
       " 'to',\n",
       " 'him',\n",
       " 'one',\n",
       " 'day',\n",
       " 'have',\n",
       " 'you',\n",
       " 'heard',\n",
       " 'that',\n",
       " 'Netherfield',\n",
       " 'Park',\n",
       " 'is',\n",
       " 'let',\n",
       " 'at',\n",
       " 'last',\n",
       " 'Mr',\n",
       " 'Bennet',\n",
       " 'replied',\n",
       " 'that',\n",
       " 'he',\n",
       " 'had',\n",
       " 'not',\n",
       " 'But',\n",
       " 'it',\n",
       " 'is',\n",
       " 'returned',\n",
       " 'she',\n",
       " 'for',\n",
       " 'Mrs',\n",
       " 'Long',\n",
       " 'has',\n",
       " 'just',\n",
       " 'been',\n",
       " 'here',\n",
       " 'and',\n",
       " 'she',\n",
       " 'told',\n",
       " 'me',\n",
       " 'all',\n",
       " 'about',\n",
       " 'it',\n",
       " 'Mr',\n",
       " 'Bennet',\n",
       " 'made',\n",
       " 'no',\n",
       " 'answer',\n",
       " 'Do',\n",
       " 'you',\n",
       " 'not',\n",
       " 'want',\n",
       " 'to',\n",
       " 'know',\n",
       " 'who',\n",
       " 'has',\n",
       " 'taken',\n",
       " 'it',\n",
       " 'cried',\n",
       " 'his',\n",
       " 'wife',\n",
       " 'impatiently',\n",
       " 'You',\n",
       " 'want',\n",
       " 'to',\n",
       " 'tell',\n",
       " 'me',\n",
       " 'and',\n",
       " 'I',\n",
       " 'have',\n",
       " 'no',\n",
       " 'objection',\n",
       " 'to',\n",
       " 'hearing',\n",
       " 'it',\n",
       " 'This',\n",
       " 'was',\n",
       " 'invitation',\n",
       " 'enough',\n",
       " 'Why',\n",
       " 'my',\n",
       " 'dear',\n",
       " 'you',\n",
       " 'must',\n",
       " 'know',\n",
       " 'Mrs',\n",
       " 'Long',\n",
       " 'says',\n",
       " 'that',\n",
       " 'Netherfield',\n",
       " 'is',\n",
       " 'taken',\n",
       " 'by',\n",
       " 'a',\n",
       " 'young',\n",
       " 'man',\n",
       " 'of',\n",
       " 'large',\n",
       " 'fortune',\n",
       " 'from',\n",
       " 'the',\n",
       " 'north',\n",
       " 'of',\n",
       " 'England',\n",
       " 'that',\n",
       " 'he',\n",
       " 'came',\n",
       " 'down',\n",
       " 'on',\n",
       " 'Monday',\n",
       " 'in',\n",
       " 'a',\n",
       " 'chaise',\n",
       " 'and',\n",
       " 'four',\n",
       " 'to',\n",
       " 'see',\n",
       " 'the',\n",
       " 'place',\n",
       " 'and',\n",
       " 'was',\n",
       " 'so',\n",
       " 'much',\n",
       " 'delighted',\n",
       " 'with',\n",
       " 'it',\n",
       " 'that',\n",
       " 'he',\n",
       " 'agreed',\n",
       " 'with',\n",
       " 'Mr',\n",
       " 'Morris',\n",
       " 'immediately',\n",
       " 'that',\n",
       " 'he',\n",
       " 'is',\n",
       " 'to',\n",
       " 'take',\n",
       " 'possession',\n",
       " 'before',\n",
       " 'Michaelmas',\n",
       " 'and',\n",
       " 'some',\n",
       " 'of',\n",
       " 'his',\n",
       " 'servants',\n",
       " 'are',\n",
       " 'to',\n",
       " 'be',\n",
       " 'in',\n",
       " 'the',\n",
       " 'house',\n",
       " 'by',\n",
       " 'the',\n",
       " 'end',\n",
       " 'of',\n",
       " 'next',\n",
       " 'week',\n",
       " 'What',\n",
       " 'is',\n",
       " 'his',\n",
       " 'name']"
      ]
     },
     "execution_count": 15,
     "metadata": {},
     "output_type": "execute_result"
    }
   ],
   "source": [
    "# Split the cleaned text into a list of words\n",
    "list_of_words = cleaned_multiline_text.split()\n",
    "\n",
    "# Show the list of individual words\n",
    "list_of_words"
   ]
  },
  {
   "cell_type": "code",
   "execution_count": 16,
   "id": "41d568bc",
   "metadata": {},
   "outputs": [
    {
     "data": {
      "text/plain": [
       "236"
      ]
     },
     "execution_count": 16,
     "metadata": {},
     "output_type": "execute_result"
    }
   ],
   "source": [
    "# Count how many words are in the list\n",
    "len(list_of_words)"
   ]
  },
  {
   "cell_type": "code",
   "execution_count": 17,
   "id": "79acd54e",
   "metadata": {},
   "outputs": [
    {
     "data": {
      "text/plain": [
       "135"
      ]
     },
     "execution_count": 17,
     "metadata": {},
     "output_type": "execute_result"
    }
   ],
   "source": [
    "# Create a dictionary with all unique words as keys\n",
    "unique_words_as_dict = dict.fromkeys(list_of_words)\n",
    "\n",
    "# Count how many unique words are in the text\n",
    "len(list(unique_words_as_dict.keys()))"
   ]
  },
  {
   "cell_type": "code",
   "execution_count": 18,
   "id": "2b84b62b",
   "metadata": {
    "scrolled": false
   },
   "outputs": [
    {
     "data": {
      "text/plain": [
       "{'It': 1,\n",
       " 'is': 8,\n",
       " 'a': 8,\n",
       " 'truth': 2,\n",
       " 'universally': 1,\n",
       " 'acknowledged': 1,\n",
       " 'that': 8,\n",
       " 'single': 1,\n",
       " 'man': 3,\n",
       " 'in': 5,\n",
       " 'possession': 2,\n",
       " 'of': 10,\n",
       " 'good': 1,\n",
       " 'fortune': 2,\n",
       " 'must': 2,\n",
       " 'be': 3,\n",
       " 'want': 3,\n",
       " 'wife': 2,\n",
       " 'However': 1,\n",
       " 'little': 1,\n",
       " 'known': 1,\n",
       " 'the': 8,\n",
       " 'feelings': 1,\n",
       " 'or': 2,\n",
       " 'views': 1,\n",
       " 'such': 1,\n",
       " 'may': 1,\n",
       " 'on': 2,\n",
       " 'his': 5,\n",
       " 'first': 1,\n",
       " 'entering': 1,\n",
       " 'neighbourhood': 1,\n",
       " 'this': 1,\n",
       " 'so': 2,\n",
       " 'well': 1,\n",
       " 'fixed': 1,\n",
       " 'minds': 1,\n",
       " 'surrounding': 1,\n",
       " 'families': 1,\n",
       " 'he': 5,\n",
       " 'considered': 1,\n",
       " 'rightful': 1,\n",
       " 'property': 1,\n",
       " 'some': 2,\n",
       " 'one': 2,\n",
       " 'other': 1,\n",
       " 'their': 1,\n",
       " 'daughters': 1,\n",
       " 'My': 1,\n",
       " 'dear': 2,\n",
       " 'Mr': 4,\n",
       " 'Bennet': 3,\n",
       " 'said': 1,\n",
       " 'lady': 1,\n",
       " 'to': 7,\n",
       " 'him': 1,\n",
       " 'day': 1,\n",
       " 'have': 2,\n",
       " 'you': 3,\n",
       " 'heard': 1,\n",
       " 'Netherfield': 2,\n",
       " 'Park': 1,\n",
       " 'let': 1,\n",
       " 'at': 1,\n",
       " 'last': 1,\n",
       " 'replied': 1,\n",
       " 'had': 1,\n",
       " 'not': 2,\n",
       " 'But': 1,\n",
       " 'it': 5,\n",
       " 'returned': 1,\n",
       " 'she': 2,\n",
       " 'for': 1,\n",
       " 'Mrs': 2,\n",
       " 'Long': 2,\n",
       " 'has': 2,\n",
       " 'just': 1,\n",
       " 'been': 1,\n",
       " 'here': 1,\n",
       " 'and': 5,\n",
       " 'told': 1,\n",
       " 'me': 2,\n",
       " 'all': 1,\n",
       " 'about': 1,\n",
       " 'made': 1,\n",
       " 'no': 2,\n",
       " 'answer': 1,\n",
       " 'Do': 1,\n",
       " 'know': 2,\n",
       " 'who': 1,\n",
       " 'taken': 2,\n",
       " 'cried': 1,\n",
       " 'impatiently': 1,\n",
       " 'You': 1,\n",
       " 'tell': 1,\n",
       " 'I': 1,\n",
       " 'objection': 1,\n",
       " 'hearing': 1,\n",
       " 'This': 1,\n",
       " 'was': 2,\n",
       " 'invitation': 1,\n",
       " 'enough': 1,\n",
       " 'Why': 1,\n",
       " 'my': 1,\n",
       " 'says': 1,\n",
       " 'by': 2,\n",
       " 'young': 1,\n",
       " 'large': 1,\n",
       " 'from': 1,\n",
       " 'north': 1,\n",
       " 'England': 1,\n",
       " 'came': 1,\n",
       " 'down': 1,\n",
       " 'Monday': 1,\n",
       " 'chaise': 1,\n",
       " 'four': 1,\n",
       " 'see': 1,\n",
       " 'place': 1,\n",
       " 'much': 1,\n",
       " 'delighted': 1,\n",
       " 'with': 2,\n",
       " 'agreed': 1,\n",
       " 'Morris': 1,\n",
       " 'immediately': 1,\n",
       " 'take': 1,\n",
       " 'before': 1,\n",
       " 'Michaelmas': 1,\n",
       " 'servants': 1,\n",
       " 'are': 1,\n",
       " 'house': 1,\n",
       " 'end': 1,\n",
       " 'next': 1,\n",
       " 'week': 1,\n",
       " 'What': 1,\n",
       " 'name': 1}"
      ]
     },
     "execution_count": 18,
     "metadata": {},
     "output_type": "execute_result"
    }
   ],
   "source": [
    "# Count the number of times the unique word has appeared\n",
    "for word in list_of_words:\n",
    "    if unique_words_as_dict[word] is None:\n",
    "        # If we haven’t counted the word yet, initialize to 1\n",
    "        unique_words_as_dict[word] = 1\n",
    "    else:\n",
    "        # If it already exists, increment the count\n",
    "        unique_words_as_dict[word] += 1\n",
    "\n",
    "# Show the dictionary of words and their frequencies\n",
    "unique_words_as_dict"
   ]
  },
  {
   "cell_type": "code",
   "execution_count": 19,
   "id": "8bdc2304",
   "metadata": {},
   "outputs": [
    {
     "data": {
      "text/plain": [
       "[('of', 10),\n",
       " ('is', 8),\n",
       " ('a', 8),\n",
       " ('that', 8),\n",
       " ('the', 8),\n",
       " ('to', 7),\n",
       " ('in', 5),\n",
       " ('his', 5),\n",
       " ('he', 5),\n",
       " ('it', 5),\n",
       " ('and', 5),\n",
       " ('Mr', 4),\n",
       " ('man', 3),\n",
       " ('be', 3),\n",
       " ('want', 3),\n",
       " ('Bennet', 3),\n",
       " ('you', 3),\n",
       " ('truth', 2),\n",
       " ('possession', 2),\n",
       " ('fortune', 2),\n",
       " ('must', 2),\n",
       " ('wife', 2),\n",
       " ('or', 2),\n",
       " ('on', 2),\n",
       " ('so', 2)]"
      ]
     },
     "execution_count": 19,
     "metadata": {},
     "output_type": "execute_result"
    }
   ],
   "source": [
    "# Sort the words by their frequency in descending order\n",
    "top_words = sorted(unique_words_as_dict.items(), key=lambda key_val_tuple: key_val_tuple[1], reverse=True)\n",
    "\n",
    "# Display the top 25 most frequent words\n",
    "top_words[:25]"
   ]
  },
  {
   "cell_type": "code",
   "execution_count": 20,
   "id": "4585e56a",
   "metadata": {},
   "outputs": [],
   "source": [
    "# Activity 2.01: Permutation, Iterator, Lambda, and List\n",
    "\n",
    "from itertools import permutations, dropwhile\n",
    "permutations?\n",
    "dropwhile?"
   ]
  },
  {
   "cell_type": "code",
   "execution_count": 21,
   "id": "7629606c",
   "metadata": {},
   "outputs": [
    {
     "data": {
      "text/plain": [
       "<itertools.permutations at 0x199af083860>"
      ]
     },
     "execution_count": 21,
     "metadata": {},
     "output_type": "execute_result"
    }
   ],
   "source": [
    "# Generate all permutations of the numbers [0, 1, 2]\n",
    "permutations(range(3))"
   ]
  },
  {
   "cell_type": "code",
   "execution_count": 22,
   "id": "8765d169",
   "metadata": {},
   "outputs": [
    {
     "name": "stdout",
     "output_type": "stream",
     "text": [
      "(0, 1, 2)\n",
      "(0, 2, 1)\n",
      "(1, 0, 2)\n",
      "(1, 2, 0)\n",
      "(2, 0, 1)\n",
      "(2, 1, 0)\n"
     ]
    }
   ],
   "source": [
    "# Loop through each permutation\n",
    "for number_tuple in permutations(range(3)):\n",
    "    print(number_tuple)\n",
    "    # Assert ensures each output is a tuple\n",
    "    assert isinstance(number_tuple, tuple)"
   ]
  },
  {
   "cell_type": "code",
   "execution_count": 23,
   "id": "71629586",
   "metadata": {},
   "outputs": [
    {
     "name": "stdout",
     "output_type": "stream",
     "text": [
      "[1, 2]\n",
      "[2, 1]\n",
      "[1, 0, 2]\n",
      "[1, 2, 0]\n",
      "[2, 0, 1]\n",
      "[2, 1, 0]\n"
     ]
    }
   ],
   "source": [
    "# For each permutation, drop all elements from the beginning that are <= 0\n",
    "for number_tuple in permutations(range(3)):\n",
    "    \n",
    "    # Convert the result to a list and print it\n",
    "    print(list(dropwhile(lambda x: x <= 0, number_tuple)))"
   ]
  },
  {
   "cell_type": "code",
   "execution_count": 25,
   "id": "4048dec5",
   "metadata": {},
   "outputs": [
    {
     "name": "stdout",
     "output_type": "stream",
     "text": [
      "12.0\n",
      "21.0\n",
      "102.0\n",
      "120.0\n",
      "201.0\n",
      "210.0\n"
     ]
    }
   ],
   "source": [
    "import math\n",
    "\n",
    "# Function to convert a list of digits into a full number\n",
    "def convert_to_number(number_stack):\n",
    "    final_number = 0\n",
    "    for i in range(0, len(number_stack)):\n",
    "        # Pop the last element, multiply by 10^i, and add it to the total\n",
    "        final_number += (number_stack.pop() * (math.pow(10, i)))\n",
    "    return final_number\n",
    "\n",
    "# For each permutation of [0, 1, 2]:\n",
    "for number_tuple in permutations(range(3)):\n",
    "    # Remove leading zeros by dropping elements <= 0 from the start\n",
    "    number_stack = list(dropwhile(lambda x: x <= 0, number_tuple))\n",
    "    # Convert the remaining digits into a number and print\n",
    "    print(convert_to_number(number_stack))"
   ]
  },
  {
   "cell_type": "code",
   "execution_count": 26,
   "id": "057b4e86",
   "metadata": {},
   "outputs": [],
   "source": [
    "# Activity 2.02: Designing Your Own CSV Parser\n",
    "\n",
    "from itertools import zip_longest  "
   ]
  },
  {
   "cell_type": "code",
   "execution_count": 27,
   "id": "cead4480",
   "metadata": {},
   "outputs": [],
   "source": [
    "# Function to convert a list of CSV values into a dictionary using the header\n",
    "def return_dict_from_csv_line(header, line):\n",
    "    # Pair each header field with the corresponding value from the line\n",
    "    # If line has fewer values than header, fill missing ones with None\n",
    "    zipped_line = zip_longest(header, line, fillvalue=None)\n",
    "    \n",
    "    # Use dictionary comprehension to turn the pairs into a dictionary\n",
    "    ret_dict = {kv[0]: kv[1] for kv in zipped_line}\n",
    "    return ret_dict"
   ]
  },
  {
   "cell_type": "code",
   "execution_count": 31,
   "id": "4230dd1a",
   "metadata": {},
   "outputs": [
    {
     "name": "stdout",
     "output_type": "stream",
     "text": [
      "{'Region': 'Central America and the Caribbean', 'Country': 'Antigua and Barbuda ', 'Item Type': 'Baby Food', 'Sales Channel': 'Online', 'Order Priority': 'M', 'Order Date': '12/20/2013', 'Order ID': '957081544', 'Ship Date': '1/11/2014', 'Units Sold': '552', 'Unit Price': '255.28', 'Unit Cost': '159.42', 'Total Revenue': '140914.56', 'Total Cost': '87999.84', 'Total Profit': '52914.72'}\n",
      "{'Region': 'Central America and the Caribbean', 'Country': 'Panama', 'Item Type': 'Snacks', 'Sales Channel': 'Offline', 'Order Priority': 'C', 'Order Date': '7/5/2010', 'Order ID': '301644504', 'Ship Date': '7/26/2010', 'Units Sold': '2167', 'Unit Price': '152.58', 'Unit Cost': '97.44', 'Total Revenue': '330640.86', 'Total Cost': '211152.48', 'Total Profit': '119488.38'}\n",
      "{'Region': 'Europe', 'Country': 'Czech Republic', 'Item Type': 'Beverages', 'Sales Channel': 'Offline', 'Order Priority': 'C', 'Order Date': '9/12/2011', 'Order ID': '478051030', 'Ship Date': '9/29/2011', 'Units Sold': '4778', 'Unit Price': '47.45', 'Unit Cost': '31.79', 'Total Revenue': '226716.1', 'Total Cost': '151892.62', 'Total Profit': '74823.48'}\n",
      "{'Region': 'Asia', 'Country': 'North Korea', 'Item Type': 'Cereal', 'Sales Channel': 'Offline', 'Order Priority': 'L', 'Order Date': '5/13/2010', 'Order ID': '892599952', 'Ship Date': '6/15/2010', 'Units Sold': '9016', 'Unit Price': '205.7', 'Unit Cost': '117.11', 'Total Revenue': '1854591.2', 'Total Cost': '1055863.76', 'Total Profit': '798727.44'}\n",
      "{'Region': 'Asia', 'Country': 'Sri Lanka', 'Item Type': 'Snacks', 'Sales Channel': 'Offline', 'Order Priority': 'C', 'Order Date': '7/20/2015', 'Order ID': '571902596', 'Ship Date': '7/27/2015', 'Units Sold': '7542', 'Unit Price': '152.58', 'Unit Cost': '97.44', 'Total Revenue': '1150758.36', 'Total Cost': '734892.48', 'Total Profit': '415865.88'}\n",
      "{'Region': 'Middle East and North Africa', 'Country': 'Morocco', 'Item Type': 'Personal Care', 'Sales Channel': 'Offline', 'Order Priority': 'L', 'Order Date': '11/8/2010', 'Order ID': '412882792', 'Ship Date': '11/22/2010', 'Units Sold': '48', 'Unit Price': '81.73', 'Unit Cost': '56.67', 'Total Revenue': '3923.04', 'Total Cost': '2720.16', 'Total Profit': '1202.88'}\n",
      "{'Region': 'Australia and Oceania', 'Country': 'Federated States of Micronesia', 'Item Type': 'Clothes', 'Sales Channel': 'Offline', 'Order Priority': 'H', 'Order Date': '3/28/2011', 'Order ID': '932776868', 'Ship Date': '5/10/2011', 'Units Sold': '8258', 'Unit Price': '109.28', 'Unit Cost': '35.84', 'Total Revenue': '902434.24', 'Total Cost': '295966.72', 'Total Profit': '606467.52'}\n",
      "{'Region': 'Europe', 'Country': 'Bosnia and Herzegovina', 'Item Type': 'Clothes', 'Sales Channel': 'Online', 'Order Priority': 'M', 'Order Date': '10/14/2013', 'Order ID': '919133651', 'Ship Date': '11/4/2013', 'Units Sold': '927', 'Unit Price': '109.28', 'Unit Cost': '35.84', 'Total Revenue': '101302.56', 'Total Cost': '33223.68', 'Total Profit': '68078.88'}\n",
      "{'Region': 'Middle East and North Africa', 'Country': 'Afghanistan', 'Item Type': 'Clothes', 'Sales Channel': 'Offline', 'Order Priority': 'M', 'Order Date': '8/27/2016', 'Order ID': '579814469', 'Ship Date': '10/5/2016', 'Units Sold': '8841', 'Unit Price': '109.28', 'Unit Cost': '35.84', 'Total Revenue': '966144.48', 'Total Cost': '316861.44', 'Total Profit': '649283.04'}\n",
      "{'Region': 'Sub-Saharan Africa', 'Country': 'Ethiopia', 'Item Type': 'Baby Food', 'Sales Channel': 'Online', 'Order Priority': 'M', 'Order Date': '4/13/2015', 'Order ID': '192993152', 'Ship Date': '5/7/2015', 'Units Sold': '9817', 'Unit Price': '255.28', 'Unit Cost': '159.42', 'Total Revenue': '2506083.76', 'Total Cost': '1565026.14', 'Total Profit': '941057.62'}\n",
      "{'Region': 'Middle East and North Africa', 'Country': 'Turkey', 'Item Type': 'Office Supplies', 'Sales Channel': 'Offline', 'Order Priority': 'C', 'Order Date': '9/25/2013', 'Order ID': '557156026', 'Ship Date': '10/15/2013', 'Units Sold': '3704', 'Unit Price': '651.21', 'Unit Cost': '524.96', 'Total Revenue': '2412081.84', 'Total Cost': '1944451.84', 'Total Profit': '467630'}\n"
     ]
    }
   ],
   "source": [
    "# Open the CSV file in read mode\n",
    "with open(\"C:/Users/Omie/Desktop/MSDS/540_Data Preparation/Week 1-2/sales_record.csv\", \"r\") as fd:\n",
    "    # Read the first line to extract the header\n",
    "    first_line = fd.readline()\n",
    "    \n",
    "    # Remove the newline character and split by comma to get a list of column names\n",
    "    header = first_line.replace(\"\\n\", \"\").split(\",\")\n",
    "    \n",
    "    # Loop through each remaining line in the file\n",
    "    for i, line in enumerate(fd):\n",
    "        # Stop after processing the first 10 lines to avoid too much output\n",
    "        if i > 10:\n",
    "            break\n",
    "        \n",
    "        # Clean the line and split it into individual values\n",
    "        line = line.replace(\"\\n\", \"\").split(\",\")\n",
    "        \n",
    "        # Convert the line into a dictionary using the header\n",
    "        d = return_dict_from_csv_line(header, line)\n",
    "        \n",
    "        # Print the resulting dictionary\n",
    "        print(d)"
   ]
  },
  {
   "cell_type": "code",
   "execution_count": null,
   "id": "06d1cb55",
   "metadata": {},
   "outputs": [],
   "source": []
  }
 ],
 "metadata": {
  "kernelspec": {
   "display_name": "Python 3 (ipykernel)",
   "language": "python",
   "name": "python3"
  },
  "language_info": {
   "codemirror_mode": {
    "name": "ipython",
    "version": 3
   },
   "file_extension": ".py",
   "mimetype": "text/x-python",
   "name": "python",
   "nbconvert_exporter": "python",
   "pygments_lexer": "ipython3",
   "version": "3.9.7"
  }
 },
 "nbformat": 4,
 "nbformat_minor": 5
}
